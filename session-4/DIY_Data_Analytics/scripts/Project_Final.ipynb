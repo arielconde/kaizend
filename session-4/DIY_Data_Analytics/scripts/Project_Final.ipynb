{
 "cells": [
  {
   "cell_type": "code",
   "execution_count": 11,
   "metadata": {},
   "outputs": [],
   "source": [
    "import pandas as pd\n",
    "import numpy \n",
    "%matplotlib inline"
   ]
  },
  {
   "cell_type": "code",
   "execution_count": 2,
   "metadata": {},
   "outputs": [],
   "source": [
    "df_celebs = pd.read_csv(\"../input/forbes_celebrity_list.csv\")\n",
    "df_edits = pd.read_csv(\"../input/wikipedia_edits.csv\")"
   ]
  },
  {
   "cell_type": "code",
   "execution_count": 4,
   "metadata": {},
   "outputs": [],
   "source": [
    "df_edits['date'] = pd.to_datetime(df_edits['timestamp'])\n",
    "df_edits['month'] = df_edits['date'].dt.month\n",
    "df_edits['year'] = df_edits['date'].dt.year"
   ]
  },
  {
   "cell_type": "code",
   "execution_count": 5,
   "metadata": {},
   "outputs": [],
   "source": [
    "cym = df_edits.groupby(['career', 'year', 'month'])['revid'].agg([len])"
   ]
  },
  {
   "cell_type": "code",
   "execution_count": 8,
   "metadata": {},
   "outputs": [
    {
     "data": {
      "text/html": [
       "<div>\n",
       "<style scoped>\n",
       "    .dataframe tbody tr th:only-of-type {\n",
       "        vertical-align: middle;\n",
       "    }\n",
       "\n",
       "    .dataframe tbody tr th {\n",
       "        vertical-align: top;\n",
       "    }\n",
       "\n",
       "    .dataframe thead th {\n",
       "        text-align: right;\n",
       "    }\n",
       "</style>\n",
       "<table border=\"1\" class=\"dataframe\">\n",
       "  <thead>\n",
       "    <tr style=\"text-align: right;\">\n",
       "      <th></th>\n",
       "      <th>career</th>\n",
       "      <th>year</th>\n",
       "      <th>month</th>\n",
       "      <th>len</th>\n",
       "      <th>yearmo</th>\n",
       "    </tr>\n",
       "  </thead>\n",
       "  <tbody>\n",
       "    <tr>\n",
       "      <td>0</td>\n",
       "      <td>Actor</td>\n",
       "      <td>2001</td>\n",
       "      <td>10</td>\n",
       "      <td>2</td>\n",
       "      <td>200110</td>\n",
       "    </tr>\n",
       "    <tr>\n",
       "      <td>1</td>\n",
       "      <td>Actor</td>\n",
       "      <td>2001</td>\n",
       "      <td>12</td>\n",
       "      <td>1</td>\n",
       "      <td>200112</td>\n",
       "    </tr>\n",
       "    <tr>\n",
       "      <td>2</td>\n",
       "      <td>Actor</td>\n",
       "      <td>2002</td>\n",
       "      <td>1</td>\n",
       "      <td>18</td>\n",
       "      <td>20021</td>\n",
       "    </tr>\n",
       "    <tr>\n",
       "      <td>3</td>\n",
       "      <td>Actor</td>\n",
       "      <td>2002</td>\n",
       "      <td>2</td>\n",
       "      <td>7</td>\n",
       "      <td>20022</td>\n",
       "    </tr>\n",
       "    <tr>\n",
       "      <td>4</td>\n",
       "      <td>Actor</td>\n",
       "      <td>2002</td>\n",
       "      <td>3</td>\n",
       "      <td>28</td>\n",
       "      <td>20023</td>\n",
       "    </tr>\n",
       "  </tbody>\n",
       "</table>\n",
       "</div>"
      ],
      "text/plain": [
       "  career  year  month  len  yearmo\n",
       "0  Actor  2001     10    2  200110\n",
       "1  Actor  2001     12    1  200112\n",
       "2  Actor  2002      1   18   20021\n",
       "3  Actor  2002      2    7   20022\n",
       "4  Actor  2002      3   28   20023"
      ]
     },
     "execution_count": 8,
     "metadata": {},
     "output_type": "execute_result"
    }
   ],
   "source": [
    "cym.reset_index(inplace=True)\n",
    "cym['yearmo'] = cym['year'].astype(str).str.cat(cym['month'].astype(str))\n",
    "cym.sort_values(by=['yearmo'], ascending=True)\n",
    "cym.head()"
   ]
  },
  {
   "cell_type": "markdown",
   "metadata": {},
   "source": [
    "## Check the trend on each career"
   ]
  },
  {
   "cell_type": "code",
   "execution_count": 18,
   "metadata": {},
   "outputs": [
    {
     "data": {
      "text/plain": [
       "Musician                               52\n",
       "Actor                                  37\n",
       "Musicians                              26\n",
       "Television Personality                 23\n",
       "Filmmaker                              14\n",
       "Sportsperson (Golf)                    12\n",
       "Sportsperson (Basketball)              10\n",
       "Author                                  7\n",
       "Sportsperson (Association Football)     5\n",
       "Radio Personality                       4\n",
       "Sportsperson (Boxing)                   3\n",
       "Athlete (Association football)          2\n",
       "Musician / Actor                        2\n",
       "Personality                             2\n",
       "Sportsperson (Tennis)                   1\n",
       "Athlete (Boxing)                        1\n",
       "Actors                                  1\n",
       "Name: career, dtype: int64"
      ]
     },
     "execution_count": 18,
     "metadata": {},
     "output_type": "execute_result"
    }
   ],
   "source": [
    "df_celebs['career'].value_counts()"
   ]
  },
  {
   "cell_type": "code",
   "execution_count": 20,
   "metadata": {},
   "outputs": [
    {
     "data": {
      "text/html": [
       "<div>\n",
       "<style scoped>\n",
       "    .dataframe tbody tr th:only-of-type {\n",
       "        vertical-align: middle;\n",
       "    }\n",
       "\n",
       "    .dataframe tbody tr th {\n",
       "        vertical-align: top;\n",
       "    }\n",
       "\n",
       "    .dataframe thead th {\n",
       "        text-align: right;\n",
       "    }\n",
       "</style>\n",
       "<table border=\"1\" class=\"dataframe\">\n",
       "  <thead>\n",
       "    <tr style=\"text-align: right;\">\n",
       "      <th></th>\n",
       "      <th>year</th>\n",
       "      <th>rank</th>\n",
       "      <th>recipient</th>\n",
       "      <th>country</th>\n",
       "      <th>career</th>\n",
       "      <th>tied</th>\n",
       "      <th>title</th>\n",
       "    </tr>\n",
       "  </thead>\n",
       "  <tbody>\n",
       "    <tr>\n",
       "      <td>0</td>\n",
       "      <td>1999</td>\n",
       "      <td>1</td>\n",
       "      <td>Michael Jordan</td>\n",
       "      <td>United States</td>\n",
       "      <td>Sportsperson (Basketball)</td>\n",
       "      <td>0</td>\n",
       "      <td>Michael_Jordan</td>\n",
       "    </tr>\n",
       "    <tr>\n",
       "      <td>1</td>\n",
       "      <td>1999</td>\n",
       "      <td>2</td>\n",
       "      <td>Oprah Winfrey</td>\n",
       "      <td>United States</td>\n",
       "      <td>Television Personality</td>\n",
       "      <td>0</td>\n",
       "      <td>Oprah_Winfrey</td>\n",
       "    </tr>\n",
       "    <tr>\n",
       "      <td>2</td>\n",
       "      <td>1999</td>\n",
       "      <td>3</td>\n",
       "      <td>Leonardo DiCaprio</td>\n",
       "      <td>United States</td>\n",
       "      <td>Actor</td>\n",
       "      <td>0</td>\n",
       "      <td>Leonardo_DiCaprio</td>\n",
       "    </tr>\n",
       "    <tr>\n",
       "      <td>3</td>\n",
       "      <td>1999</td>\n",
       "      <td>4</td>\n",
       "      <td>Jerry Seinfeld</td>\n",
       "      <td>United States</td>\n",
       "      <td>Actor</td>\n",
       "      <td>0</td>\n",
       "      <td>Jerry_Seinfeld</td>\n",
       "    </tr>\n",
       "    <tr>\n",
       "      <td>4</td>\n",
       "      <td>1999</td>\n",
       "      <td>5</td>\n",
       "      <td>Steven Spielberg</td>\n",
       "      <td>United States</td>\n",
       "      <td>Filmmaker</td>\n",
       "      <td>0</td>\n",
       "      <td>Steven_Spielberg</td>\n",
       "    </tr>\n",
       "    <tr>\n",
       "      <td>5</td>\n",
       "      <td>1999</td>\n",
       "      <td>6</td>\n",
       "      <td>Spice Girls</td>\n",
       "      <td>United Kingdom</td>\n",
       "      <td>Musicians</td>\n",
       "      <td>0</td>\n",
       "      <td>Spice_Girls</td>\n",
       "    </tr>\n",
       "    <tr>\n",
       "      <td>6</td>\n",
       "      <td>1999</td>\n",
       "      <td>7</td>\n",
       "      <td>Harrison Ford</td>\n",
       "      <td>United States</td>\n",
       "      <td>Actor</td>\n",
       "      <td>0</td>\n",
       "      <td>Harrison_Ford</td>\n",
       "    </tr>\n",
       "    <tr>\n",
       "      <td>7</td>\n",
       "      <td>1999</td>\n",
       "      <td>8</td>\n",
       "      <td>Robin Williams</td>\n",
       "      <td>United States</td>\n",
       "      <td>Actor</td>\n",
       "      <td>0</td>\n",
       "      <td>Robin_Williams</td>\n",
       "    </tr>\n",
       "    <tr>\n",
       "      <td>8</td>\n",
       "      <td>1999</td>\n",
       "      <td>9</td>\n",
       "      <td>Celine Dion</td>\n",
       "      <td>Canada</td>\n",
       "      <td>Musician</td>\n",
       "      <td>0</td>\n",
       "      <td>Céline_Dion</td>\n",
       "    </tr>\n",
       "    <tr>\n",
       "      <td>9</td>\n",
       "      <td>1999</td>\n",
       "      <td>10</td>\n",
       "      <td>The Rolling Stones</td>\n",
       "      <td>United Kingdom</td>\n",
       "      <td>Musicians</td>\n",
       "      <td>0</td>\n",
       "      <td>The_Rolling_Stones</td>\n",
       "    </tr>\n",
       "  </tbody>\n",
       "</table>\n",
       "</div>"
      ],
      "text/plain": [
       "   year  rank           recipient         country                     career  \\\n",
       "0  1999     1      Michael Jordan   United States  Sportsperson (Basketball)   \n",
       "1  1999     2       Oprah Winfrey   United States     Television Personality   \n",
       "2  1999     3   Leonardo DiCaprio   United States                      Actor   \n",
       "3  1999     4      Jerry Seinfeld   United States                      Actor   \n",
       "4  1999     5    Steven Spielberg   United States                  Filmmaker   \n",
       "5  1999     6         Spice Girls  United Kingdom                  Musicians   \n",
       "6  1999     7       Harrison Ford   United States                      Actor   \n",
       "7  1999     8      Robin Williams   United States                      Actor   \n",
       "8  1999     9         Celine Dion          Canada                   Musician   \n",
       "9  1999    10  The Rolling Stones  United Kingdom                  Musicians   \n",
       "\n",
       "   tied               title  \n",
       "0     0      Michael_Jordan  \n",
       "1     0       Oprah_Winfrey  \n",
       "2     0   Leonardo_DiCaprio  \n",
       "3     0      Jerry_Seinfeld  \n",
       "4     0    Steven_Spielberg  \n",
       "5     0         Spice_Girls  \n",
       "6     0       Harrison_Ford  \n",
       "7     0      Robin_Williams  \n",
       "8     0         Céline_Dion  \n",
       "9     0  The_Rolling_Stones  "
      ]
     },
     "execution_count": 20,
     "metadata": {},
     "output_type": "execute_result"
    }
   ],
   "source": [
    "df_celebs.head(10)"
   ]
  },
  {
   "cell_type": "code",
   "execution_count": 21,
   "metadata": {},
   "outputs": [
    {
     "data": {
      "text/html": [
       "<div>\n",
       "<style scoped>\n",
       "    .dataframe tbody tr th:only-of-type {\n",
       "        vertical-align: middle;\n",
       "    }\n",
       "\n",
       "    .dataframe tbody tr th {\n",
       "        vertical-align: top;\n",
       "    }\n",
       "\n",
       "    .dataframe thead th {\n",
       "        text-align: right;\n",
       "    }\n",
       "</style>\n",
       "<table border=\"1\" class=\"dataframe\">\n",
       "  <thead>\n",
       "    <tr style=\"text-align: right;\">\n",
       "      <th></th>\n",
       "      <th>year</th>\n",
       "      <th>rank</th>\n",
       "      <th>recipient</th>\n",
       "      <th>country</th>\n",
       "      <th>career</th>\n",
       "      <th>tied</th>\n",
       "      <th>title</th>\n",
       "    </tr>\n",
       "  </thead>\n",
       "  <tbody>\n",
       "    <tr>\n",
       "      <td>192</td>\n",
       "      <td>2018</td>\n",
       "      <td>1</td>\n",
       "      <td>Floyd Mayweather, Jr.</td>\n",
       "      <td>United States</td>\n",
       "      <td>Athlete (Boxing)</td>\n",
       "      <td>0</td>\n",
       "      <td>Floyd_Mayweather_Jr.</td>\n",
       "    </tr>\n",
       "    <tr>\n",
       "      <td>193</td>\n",
       "      <td>2018</td>\n",
       "      <td>2</td>\n",
       "      <td>George Clooney</td>\n",
       "      <td>United States</td>\n",
       "      <td>Actor</td>\n",
       "      <td>0</td>\n",
       "      <td>George_Clooney</td>\n",
       "    </tr>\n",
       "    <tr>\n",
       "      <td>194</td>\n",
       "      <td>2018</td>\n",
       "      <td>3</td>\n",
       "      <td>Kylie Jenner</td>\n",
       "      <td>United States</td>\n",
       "      <td>Personality</td>\n",
       "      <td>0</td>\n",
       "      <td>Kylie_Jenner</td>\n",
       "    </tr>\n",
       "    <tr>\n",
       "      <td>195</td>\n",
       "      <td>2018</td>\n",
       "      <td>4</td>\n",
       "      <td>Judy Sheindlin</td>\n",
       "      <td>United States</td>\n",
       "      <td>Personality</td>\n",
       "      <td>0</td>\n",
       "      <td>Judy_Sheindlin</td>\n",
       "    </tr>\n",
       "    <tr>\n",
       "      <td>196</td>\n",
       "      <td>2018</td>\n",
       "      <td>5</td>\n",
       "      <td>Dwayne Johnson</td>\n",
       "      <td>United States</td>\n",
       "      <td>Actor</td>\n",
       "      <td>0</td>\n",
       "      <td>Dwayne_Johnson</td>\n",
       "    </tr>\n",
       "    <tr>\n",
       "      <td>197</td>\n",
       "      <td>2018</td>\n",
       "      <td>6</td>\n",
       "      <td>U2</td>\n",
       "      <td>Republic of Ireland</td>\n",
       "      <td>Musicians</td>\n",
       "      <td>0</td>\n",
       "      <td>U2</td>\n",
       "    </tr>\n",
       "    <tr>\n",
       "      <td>198</td>\n",
       "      <td>2018</td>\n",
       "      <td>7</td>\n",
       "      <td>Coldplay</td>\n",
       "      <td>United Kingdom</td>\n",
       "      <td>Musicians</td>\n",
       "      <td>0</td>\n",
       "      <td>Coldplay</td>\n",
       "    </tr>\n",
       "    <tr>\n",
       "      <td>199</td>\n",
       "      <td>2018</td>\n",
       "      <td>8</td>\n",
       "      <td>Lionel Messi</td>\n",
       "      <td>Argentina</td>\n",
       "      <td>Athlete (Association football)</td>\n",
       "      <td>0</td>\n",
       "      <td>Lionel_Messi</td>\n",
       "    </tr>\n",
       "    <tr>\n",
       "      <td>200</td>\n",
       "      <td>2018</td>\n",
       "      <td>9</td>\n",
       "      <td>Ed Sheeran</td>\n",
       "      <td>United Kingdom</td>\n",
       "      <td>Musician</td>\n",
       "      <td>0</td>\n",
       "      <td>Ed_Sheeran</td>\n",
       "    </tr>\n",
       "    <tr>\n",
       "      <td>201</td>\n",
       "      <td>2018</td>\n",
       "      <td>10</td>\n",
       "      <td>Cristiano Ronaldo</td>\n",
       "      <td>Portugal</td>\n",
       "      <td>Athlete (Association football)</td>\n",
       "      <td>0</td>\n",
       "      <td>Cristiano_Ronaldo</td>\n",
       "    </tr>\n",
       "  </tbody>\n",
       "</table>\n",
       "</div>"
      ],
      "text/plain": [
       "     year  rank              recipient              country  \\\n",
       "192  2018     1  Floyd Mayweather, Jr.        United States   \n",
       "193  2018     2         George Clooney        United States   \n",
       "194  2018     3           Kylie Jenner        United States   \n",
       "195  2018     4         Judy Sheindlin        United States   \n",
       "196  2018     5         Dwayne Johnson        United States   \n",
       "197  2018     6                     U2  Republic of Ireland   \n",
       "198  2018     7               Coldplay       United Kingdom   \n",
       "199  2018     8           Lionel Messi            Argentina   \n",
       "200  2018     9             Ed Sheeran       United Kingdom   \n",
       "201  2018    10      Cristiano Ronaldo             Portugal   \n",
       "\n",
       "                             career  tied                 title  \n",
       "192                Athlete (Boxing)     0  Floyd_Mayweather_Jr.  \n",
       "193                           Actor     0        George_Clooney  \n",
       "194                     Personality     0          Kylie_Jenner  \n",
       "195                     Personality     0        Judy_Sheindlin  \n",
       "196                           Actor     0        Dwayne_Johnson  \n",
       "197                       Musicians     0                    U2  \n",
       "198                       Musicians     0              Coldplay  \n",
       "199  Athlete (Association football)     0          Lionel_Messi  \n",
       "200                        Musician     0            Ed_Sheeran  \n",
       "201  Athlete (Association football)     0     Cristiano_Ronaldo  "
      ]
     },
     "execution_count": 21,
     "metadata": {},
     "output_type": "execute_result"
    }
   ],
   "source": [
    "df_celebs.tail(10)"
   ]
  },
  {
   "cell_type": "code",
   "execution_count": 13,
   "metadata": {},
   "outputs": [
    {
     "data": {
      "text/plain": [
       "<matplotlib.axes._subplots.AxesSubplot at 0x121254fd0>"
      ]
     },
     "execution_count": 13,
     "metadata": {},
     "output_type": "execute_result"
    },
    {
     "data": {
      "image/png": "[encoded data removed]",
      "text/plain": [
       "<Figure size 432x288 with 1 Axes>"
      ]
     },
     "metadata": {
      "needs_background": "light"
     },
     "output_type": "display_data"
    }
   ],
   "source": [
    "cym[cym['career'] == 'Radio Personality'].plot(x=\"yearmo\", y=\"len\")"
   ]
  },
  {
   "cell_type": "code",
   "execution_count": 14,
   "metadata": {},
   "outputs": [
    {
     "data": {
      "text/plain": [
       "<matplotlib.axes._subplots.AxesSubplot at 0x11ff86d10>"
      ]
     },
     "execution_count": 14,
     "metadata": {},
     "output_type": "execute_result"
    },
    {
     "data": {
      "image/png": "[encoded data removed]",
      "text/plain": [
       "<Figure size 432x288 with 1 Axes>"
      ]
     },
     "metadata": {
      "needs_background": "light"
     },
     "output_type": "display_data"
    }
   ],
   "source": [
    "cym[cym['career'] == 'Actor'].plot(x=\"yearmo\", y=\"len\")"
   ]
  },
  {
   "cell_type": "code",
   "execution_count": 22,
   "metadata": {},
   "outputs": [
    {
     "data": {
      "text/plain": [
       "<matplotlib.axes._subplots.AxesSubplot at 0x11fbd5dd0>"
      ]
     },
     "execution_count": 22,
     "metadata": {},
     "output_type": "execute_result"
    },
    {
     "data": {
      "image/png": "[encoded data removed]",
      "text/plain": [
       "<Figure size 432x288 with 1 Axes>"
      ]
     },
     "metadata": {
      "needs_background": "light"
     },
     "output_type": "display_data"
    }
   ],
   "source": [
    "cym[cym['career'] == 'Athlete (Association football)'].plot(x=\"yearmo\", y=\"len\")"
   ]
  }
 ],
 "metadata": {
  "kernelspec": {
   "display_name": "Python 3",
   "language": "python",
   "name": "python3"
  },
  "language_info": {
   "codemirror_mode": {
    "name": "ipython",
    "version": 3
   },
   "file_extension": ".py",
   "mimetype": "text/x-python",
   "name": "python",
   "nbconvert_exporter": "python",
   "pygments_lexer": "ipython3",
   "version": "3.7.4"
  }
 },
 "nbformat": 4,
 "nbformat_minor": 4
}
