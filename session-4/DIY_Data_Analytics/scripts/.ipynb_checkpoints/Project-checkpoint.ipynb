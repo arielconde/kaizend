{
 "cells": [
  {
   "cell_type": "code",
   "execution_count": null,
   "metadata": {},
   "outputs": [],
   "source": [
    "Questions\n",
    "\n",
    "1. Sports / career popularity ?\n",
    "2. Decrease / Increase of edit per month / year to edits\n",
    "3. Number of edits by month"
   ]
  },
  {
   "cell_type": "code",
   "execution_count": 2,
   "metadata": {},
   "outputs": [],
   "source": [
    "import pandas as pd\n",
    "import numpy "
   ]
  },
  {
   "cell_type": "code",
   "execution_count": 3,
   "metadata": {},
   "outputs": [],
   "source": [
    "df_celebs = pd.read_csv(\"../input/forbes_celebrity_list.csv\")\n",
    "df_edits = pd.read_csv(\"../input/wikipedia_edits.csv\")"
   ]
  },
  {
   "cell_type": "code",
   "execution_count": 4,
   "metadata": {},
   "outputs": [
    {
     "data": {
      "text/html": [
       "<div>\n",
       "<style scoped>\n",
       "    .dataframe tbody tr th:only-of-type {\n",
       "        vertical-align: middle;\n",
       "    }\n",
       "\n",
       "    .dataframe tbody tr th {\n",
       "        vertical-align: top;\n",
       "    }\n",
       "\n",
       "    .dataframe thead th {\n",
       "        text-align: right;\n",
       "    }\n",
       "</style>\n",
       "<table border=\"1\" class=\"dataframe\">\n",
       "  <thead>\n",
       "    <tr style=\"text-align: right;\">\n",
       "      <th></th>\n",
       "      <th>year</th>\n",
       "      <th>rank</th>\n",
       "      <th>recipient</th>\n",
       "      <th>country</th>\n",
       "      <th>career</th>\n",
       "      <th>tied</th>\n",
       "      <th>title</th>\n",
       "    </tr>\n",
       "  </thead>\n",
       "  <tbody>\n",
       "    <tr>\n",
       "      <td>0</td>\n",
       "      <td>1999</td>\n",
       "      <td>1</td>\n",
       "      <td>Michael Jordan</td>\n",
       "      <td>United States</td>\n",
       "      <td>Sportsperson (Basketball)</td>\n",
       "      <td>0</td>\n",
       "      <td>Michael_Jordan</td>\n",
       "    </tr>\n",
       "    <tr>\n",
       "      <td>1</td>\n",
       "      <td>1999</td>\n",
       "      <td>2</td>\n",
       "      <td>Oprah Winfrey</td>\n",
       "      <td>United States</td>\n",
       "      <td>Television Personality</td>\n",
       "      <td>0</td>\n",
       "      <td>Oprah_Winfrey</td>\n",
       "    </tr>\n",
       "    <tr>\n",
       "      <td>2</td>\n",
       "      <td>1999</td>\n",
       "      <td>3</td>\n",
       "      <td>Leonardo DiCaprio</td>\n",
       "      <td>United States</td>\n",
       "      <td>Actor</td>\n",
       "      <td>0</td>\n",
       "      <td>Leonardo_DiCaprio</td>\n",
       "    </tr>\n",
       "    <tr>\n",
       "      <td>3</td>\n",
       "      <td>1999</td>\n",
       "      <td>4</td>\n",
       "      <td>Jerry Seinfeld</td>\n",
       "      <td>United States</td>\n",
       "      <td>Actor</td>\n",
       "      <td>0</td>\n",
       "      <td>Jerry_Seinfeld</td>\n",
       "    </tr>\n",
       "    <tr>\n",
       "      <td>4</td>\n",
       "      <td>1999</td>\n",
       "      <td>5</td>\n",
       "      <td>Steven Spielberg</td>\n",
       "      <td>United States</td>\n",
       "      <td>Filmmaker</td>\n",
       "      <td>0</td>\n",
       "      <td>Steven_Spielberg</td>\n",
       "    </tr>\n",
       "  </tbody>\n",
       "</table>\n",
       "</div>"
      ],
      "text/plain": [
       "   year  rank          recipient        country                     career  \\\n",
       "0  1999     1     Michael Jordan  United States  Sportsperson (Basketball)   \n",
       "1  1999     2      Oprah Winfrey  United States     Television Personality   \n",
       "2  1999     3  Leonardo DiCaprio  United States                      Actor   \n",
       "3  1999     4     Jerry Seinfeld  United States                      Actor   \n",
       "4  1999     5   Steven Spielberg  United States                  Filmmaker   \n",
       "\n",
       "   tied              title  \n",
       "0     0     Michael_Jordan  \n",
       "1     0      Oprah_Winfrey  \n",
       "2     0  Leonardo_DiCaprio  \n",
       "3     0     Jerry_Seinfeld  \n",
       "4     0   Steven_Spielberg  "
      ]
     },
     "execution_count": 4,
     "metadata": {},
     "output_type": "execute_result"
    }
   ],
   "source": [
    "df_celebs.head()"
   ]
  },
  {
   "cell_type": "code",
   "execution_count": 5,
   "metadata": {},
   "outputs": [
    {
     "data": {
      "text/html": [
       "<div>\n",
       "<style scoped>\n",
       "    .dataframe tbody tr th:only-of-type {\n",
       "        vertical-align: middle;\n",
       "    }\n",
       "\n",
       "    .dataframe tbody tr th {\n",
       "        vertical-align: top;\n",
       "    }\n",
       "\n",
       "    .dataframe thead th {\n",
       "        text-align: right;\n",
       "    }\n",
       "</style>\n",
       "<table border=\"1\" class=\"dataframe\">\n",
       "  <thead>\n",
       "    <tr style=\"text-align: right;\">\n",
       "      <th></th>\n",
       "      <th>title</th>\n",
       "      <th>parentid</th>\n",
       "      <th>revid</th>\n",
       "      <th>timestamp</th>\n",
       "      <th>user</th>\n",
       "      <th>userid</th>\n",
       "      <th>size</th>\n",
       "      <th>recipient</th>\n",
       "      <th>year</th>\n",
       "      <th>rank</th>\n",
       "      <th>country</th>\n",
       "      <th>career</th>\n",
       "      <th>tied</th>\n",
       "    </tr>\n",
       "  </thead>\n",
       "  <tbody>\n",
       "    <tr>\n",
       "      <td>0</td>\n",
       "      <td>50_Cent</td>\n",
       "      <td>858765697</td>\n",
       "      <td>858858564</td>\n",
       "      <td>2018-09-10T02:52:25Z</td>\n",
       "      <td>ProspectIV</td>\n",
       "      <td>33893830.0</td>\n",
       "      <td>132452</td>\n",
       "      <td>50 Cent</td>\n",
       "      <td>2006</td>\n",
       "      <td>8</td>\n",
       "      <td>United States</td>\n",
       "      <td>Musician</td>\n",
       "      <td>0</td>\n",
       "    </tr>\n",
       "    <tr>\n",
       "      <td>1</td>\n",
       "      <td>50_Cent</td>\n",
       "      <td>858673799</td>\n",
       "      <td>858765697</td>\n",
       "      <td>2018-09-09T13:11:00Z</td>\n",
       "      <td>ProspectIV</td>\n",
       "      <td>33893830.0</td>\n",
       "      <td>132476</td>\n",
       "      <td>50 Cent</td>\n",
       "      <td>2006</td>\n",
       "      <td>8</td>\n",
       "      <td>United States</td>\n",
       "      <td>Musician</td>\n",
       "      <td>0</td>\n",
       "    </tr>\n",
       "    <tr>\n",
       "      <td>2</td>\n",
       "      <td>50_Cent</td>\n",
       "      <td>858673121</td>\n",
       "      <td>858673799</td>\n",
       "      <td>2018-09-08T21:46:42Z</td>\n",
       "      <td>ProspectIV</td>\n",
       "      <td>33893830.0</td>\n",
       "      <td>132444</td>\n",
       "      <td>50 Cent</td>\n",
       "      <td>2006</td>\n",
       "      <td>8</td>\n",
       "      <td>United States</td>\n",
       "      <td>Musician</td>\n",
       "      <td>0</td>\n",
       "    </tr>\n",
       "    <tr>\n",
       "      <td>3</td>\n",
       "      <td>50_Cent</td>\n",
       "      <td>858673016</td>\n",
       "      <td>858673121</td>\n",
       "      <td>2018-09-08T21:39:37Z</td>\n",
       "      <td>ProspectIV</td>\n",
       "      <td>33893830.0</td>\n",
       "      <td>132345</td>\n",
       "      <td>50 Cent</td>\n",
       "      <td>2006</td>\n",
       "      <td>8</td>\n",
       "      <td>United States</td>\n",
       "      <td>Musician</td>\n",
       "      <td>0</td>\n",
       "    </tr>\n",
       "    <tr>\n",
       "      <td>4</td>\n",
       "      <td>50_Cent</td>\n",
       "      <td>858469414</td>\n",
       "      <td>858673016</td>\n",
       "      <td>2018-09-08T21:38:24Z</td>\n",
       "      <td>ProspectIV</td>\n",
       "      <td>33893830.0</td>\n",
       "      <td>132345</td>\n",
       "      <td>50 Cent</td>\n",
       "      <td>2006</td>\n",
       "      <td>8</td>\n",
       "      <td>United States</td>\n",
       "      <td>Musician</td>\n",
       "      <td>0</td>\n",
       "    </tr>\n",
       "  </tbody>\n",
       "</table>\n",
       "</div>"
      ],
      "text/plain": [
       "     title   parentid      revid             timestamp        user  \\\n",
       "0  50_Cent  858765697  858858564  2018-09-10T02:52:25Z  ProspectIV   \n",
       "1  50_Cent  858673799  858765697  2018-09-09T13:11:00Z  ProspectIV   \n",
       "2  50_Cent  858673121  858673799  2018-09-08T21:46:42Z  ProspectIV   \n",
       "3  50_Cent  858673016  858673121  2018-09-08T21:39:37Z  ProspectIV   \n",
       "4  50_Cent  858469414  858673016  2018-09-08T21:38:24Z  ProspectIV   \n",
       "\n",
       "       userid    size recipient  year  rank        country    career  tied  \n",
       "0  33893830.0  132452   50 Cent  2006     8  United States  Musician     0  \n",
       "1  33893830.0  132476   50 Cent  2006     8  United States  Musician     0  \n",
       "2  33893830.0  132444   50 Cent  2006     8  United States  Musician     0  \n",
       "3  33893830.0  132345   50 Cent  2006     8  United States  Musician     0  \n",
       "4  33893830.0  132345   50 Cent  2006     8  United States  Musician     0  "
      ]
     },
     "execution_count": 5,
     "metadata": {},
     "output_type": "execute_result"
    }
   ],
   "source": [
    "df_edits.head()"
   ]
  },
  {
   "cell_type": "code",
   "execution_count": 7,
   "metadata": {},
   "outputs": [
    {
     "data": {
      "text/plain": [
       "Oprah Winfrey         16\n",
       "Tiger Woods           12\n",
       "Steven Spielberg      11\n",
       "Tom Cruise             6\n",
       "Madonna                6\n",
       "                      ..\n",
       "Celine Dion            1\n",
       "David Beckham          1\n",
       "Rush Limbaugh          1\n",
       "James Cameron          1\n",
       "Sean 'Diddy' Combs     1\n",
       "Name: recipient, Length: 82, dtype: int64"
      ]
     },
     "execution_count": 7,
     "metadata": {},
     "output_type": "execute_result"
    }
   ],
   "source": [
    "df_celebs['recipient'].value_counts()"
   ]
  },
  {
   "cell_type": "code",
   "execution_count": 12,
   "metadata": {},
   "outputs": [
    {
     "data": {
      "text/plain": [
       "Musician                               213081\n",
       "Musicians                              181184\n",
       "Actor                                  146121\n",
       "Sportsperson (Basketball)               48464\n",
       "Television Personality                  36792\n",
       "Sportsperson (Association Football)     27622\n",
       "Sportsperson (Tennis)                   24641\n",
       "Filmmaker                               20085\n",
       "Athlete (Association football)          16272\n",
       "Author                                  13884\n",
       "Musician / Actor                        13146\n",
       "Sportsperson (Golf)                      9026\n",
       "Sportsperson (Boxing)                    8917\n",
       "Radio Personality                        8685\n",
       "Athlete (Boxing)                         7969\n",
       "Actors                                   7636\n",
       "Personality                              5818\n",
       "Name: career, dtype: int64"
      ]
     },
     "execution_count": 12,
     "metadata": {},
     "output_type": "execute_result"
    }
   ],
   "source": [
    "df_edits['career'].value_counts()"
   ]
  },
  {
   "cell_type": "code",
   "execution_count": null,
   "metadata": {},
   "outputs": [],
   "source": [
    "## Identify which field for writers are best to focus on?\n",
    "\n",
    "# Show trend for a single career - number of edits"
   ]
  },
  {
   "cell_type": "code",
   "execution_count": 92,
   "metadata": {},
   "outputs": [
    {
     "data": {
      "text/html": [
       "<div>\n",
       "<style scoped>\n",
       "    .dataframe tbody tr th:only-of-type {\n",
       "        vertical-align: middle;\n",
       "    }\n",
       "\n",
       "    .dataframe tbody tr th {\n",
       "        vertical-align: top;\n",
       "    }\n",
       "\n",
       "    .dataframe thead th {\n",
       "        text-align: right;\n",
       "    }\n",
       "</style>\n",
       "<table border=\"1\" class=\"dataframe\">\n",
       "  <thead>\n",
       "    <tr style=\"text-align: right;\">\n",
       "      <th></th>\n",
       "      <th>title</th>\n",
       "      <th>parentid</th>\n",
       "      <th>revid</th>\n",
       "      <th>timestamp</th>\n",
       "      <th>user</th>\n",
       "      <th>userid</th>\n",
       "      <th>size</th>\n",
       "      <th>recipient</th>\n",
       "      <th>year</th>\n",
       "      <th>rank</th>\n",
       "      <th>country</th>\n",
       "      <th>career</th>\n",
       "      <th>tied</th>\n",
       "    </tr>\n",
       "  </thead>\n",
       "  <tbody>\n",
       "    <tr>\n",
       "      <td>750342</td>\n",
       "      <td>Tiger_Woods</td>\n",
       "      <td>857750021</td>\n",
       "      <td>858229064</td>\n",
       "      <td>2018-09-05T20:52:26Z</td>\n",
       "      <td>GreenC bot</td>\n",
       "      <td>27823944.0</td>\n",
       "      <td>155334</td>\n",
       "      <td>Tiger Woods</td>\n",
       "      <td>2008</td>\n",
       "      <td>2</td>\n",
       "      <td>United States</td>\n",
       "      <td>Sportsperson (Golf)</td>\n",
       "      <td>0</td>\n",
       "    </tr>\n",
       "    <tr>\n",
       "      <td>750343</td>\n",
       "      <td>Tiger_Woods</td>\n",
       "      <td>857749715</td>\n",
       "      <td>857750021</td>\n",
       "      <td>2018-09-02T19:41:46Z</td>\n",
       "      <td>Wyn.junior</td>\n",
       "      <td>20131735.0</td>\n",
       "      <td>155358</td>\n",
       "      <td>Tiger Woods</td>\n",
       "      <td>2008</td>\n",
       "      <td>2</td>\n",
       "      <td>United States</td>\n",
       "      <td>Sportsperson (Golf)</td>\n",
       "      <td>0</td>\n",
       "    </tr>\n",
       "    <tr>\n",
       "      <td>750344</td>\n",
       "      <td>Tiger_Woods</td>\n",
       "      <td>857022160</td>\n",
       "      <td>857749715</td>\n",
       "      <td>2018-09-02T19:39:39Z</td>\n",
       "      <td>Wyn.junior</td>\n",
       "      <td>20131735.0</td>\n",
       "      <td>155358</td>\n",
       "      <td>Tiger Woods</td>\n",
       "      <td>2008</td>\n",
       "      <td>2</td>\n",
       "      <td>United States</td>\n",
       "      <td>Sportsperson (Golf)</td>\n",
       "      <td>0</td>\n",
       "    </tr>\n",
       "    <tr>\n",
       "      <td>750345</td>\n",
       "      <td>Tiger_Woods</td>\n",
       "      <td>856562447</td>\n",
       "      <td>857022160</td>\n",
       "      <td>2018-08-29T01:42:05Z</td>\n",
       "      <td>Aoa8212</td>\n",
       "      <td>402703.0</td>\n",
       "      <td>155354</td>\n",
       "      <td>Tiger Woods</td>\n",
       "      <td>2008</td>\n",
       "      <td>2</td>\n",
       "      <td>United States</td>\n",
       "      <td>Sportsperson (Golf)</td>\n",
       "      <td>0</td>\n",
       "    </tr>\n",
       "    <tr>\n",
       "      <td>750346</td>\n",
       "      <td>Tiger_Woods</td>\n",
       "      <td>856562065</td>\n",
       "      <td>856562447</td>\n",
       "      <td>2018-08-26T03:13:08Z</td>\n",
       "      <td>Kind Tennis Fan</td>\n",
       "      <td>19339494.0</td>\n",
       "      <td>155354</td>\n",
       "      <td>Tiger Woods</td>\n",
       "      <td>2008</td>\n",
       "      <td>2</td>\n",
       "      <td>United States</td>\n",
       "      <td>Sportsperson (Golf)</td>\n",
       "      <td>0</td>\n",
       "    </tr>\n",
       "  </tbody>\n",
       "</table>\n",
       "</div>"
      ],
      "text/plain": [
       "              title   parentid      revid             timestamp  \\\n",
       "750342  Tiger_Woods  857750021  858229064  2018-09-05T20:52:26Z   \n",
       "750343  Tiger_Woods  857749715  857750021  2018-09-02T19:41:46Z   \n",
       "750344  Tiger_Woods  857022160  857749715  2018-09-02T19:39:39Z   \n",
       "750345  Tiger_Woods  856562447  857022160  2018-08-29T01:42:05Z   \n",
       "750346  Tiger_Woods  856562065  856562447  2018-08-26T03:13:08Z   \n",
       "\n",
       "                   user      userid    size    recipient  year  rank  \\\n",
       "750342       GreenC bot  27823944.0  155334  Tiger Woods  2008     2   \n",
       "750343       Wyn.junior  20131735.0  155358  Tiger Woods  2008     2   \n",
       "750344       Wyn.junior  20131735.0  155358  Tiger Woods  2008     2   \n",
       "750345          Aoa8212    402703.0  155354  Tiger Woods  2008     2   \n",
       "750346  Kind Tennis Fan  19339494.0  155354  Tiger Woods  2008     2   \n",
       "\n",
       "              country               career  tied  \n",
       "750342  United States  Sportsperson (Golf)     0  \n",
       "750343  United States  Sportsperson (Golf)     0  \n",
       "750344  United States  Sportsperson (Golf)     0  \n",
       "750345  United States  Sportsperson (Golf)     0  \n",
       "750346  United States  Sportsperson (Golf)     0  "
      ]
     },
     "execution_count": 92,
     "metadata": {},
     "output_type": "execute_result"
    }
   ],
   "source": [
    "df_golf = df_edits[(df_edits['career'] == 'Sportsperson (Golf)')]\n",
    "df_golf.head()"
   ]
  },
  {
   "cell_type": "code",
   "execution_count": 20,
   "metadata": {},
   "outputs": [
    {
     "name": "stderr",
     "output_type": "stream",
     "text": [
      "/Applications/Anaconda/anaconda3/lib/python3.7/site-packages/ipykernel_launcher.py:1: SettingWithCopyWarning: \n",
      "A value is trying to be set on a copy of a slice from a DataFrame.\n",
      "Try using .loc[row_indexer,col_indexer] = value instead\n",
      "\n",
      "See the caveats in the documentation: http://pandas.pydata.org/pandas-docs/stable/user_guide/indexing.html#returning-a-view-versus-a-copy\n",
      "  \"\"\"Entry point for launching an IPython kernel.\n"
     ]
    }
   ],
   "source": [
    "df_golf['date'] = pd.to_datetime(df_golf['timestamp'])"
   ]
  },
  {
   "cell_type": "code",
   "execution_count": 29,
   "metadata": {},
   "outputs": [
    {
     "name": "stderr",
     "output_type": "stream",
     "text": [
      "/Applications/Anaconda/anaconda3/lib/python3.7/site-packages/ipykernel_launcher.py:1: SettingWithCopyWarning: \n",
      "A value is trying to be set on a copy of a slice from a DataFrame.\n",
      "Try using .loc[row_indexer,col_indexer] = value instead\n",
      "\n",
      "See the caveats in the documentation: http://pandas.pydata.org/pandas-docs/stable/user_guide/indexing.html#returning-a-view-versus-a-copy\n",
      "  \"\"\"Entry point for launching an IPython kernel.\n",
      "/Applications/Anaconda/anaconda3/lib/python3.7/site-packages/ipykernel_launcher.py:2: SettingWithCopyWarning: \n",
      "A value is trying to be set on a copy of a slice from a DataFrame.\n",
      "Try using .loc[row_indexer,col_indexer] = value instead\n",
      "\n",
      "See the caveats in the documentation: http://pandas.pydata.org/pandas-docs/stable/user_guide/indexing.html#returning-a-view-versus-a-copy\n",
      "  \n"
     ]
    }
   ],
   "source": [
    "df_golf['year'] = df_golf['date'].dt.year\n",
    "df_golf['month'] = df_golf['date'].dt.month"
   ]
  },
  {
   "cell_type": "code",
   "execution_count": 51,
   "metadata": {},
   "outputs": [],
   "source": [
    "c_golf = df_golf.groupby(['career', 'year', 'month'])['revid'].agg([len])\n",
    "c_golf.reset_index(inplace=True)"
   ]
  },
  {
   "cell_type": "code",
   "execution_count": 52,
   "metadata": {},
   "outputs": [
    {
     "data": {
      "text/html": [
       "<div>\n",
       "<style scoped>\n",
       "    .dataframe tbody tr th:only-of-type {\n",
       "        vertical-align: middle;\n",
       "    }\n",
       "\n",
       "    .dataframe tbody tr th {\n",
       "        vertical-align: top;\n",
       "    }\n",
       "\n",
       "    .dataframe thead th {\n",
       "        text-align: right;\n",
       "    }\n",
       "</style>\n",
       "<table border=\"1\" class=\"dataframe\">\n",
       "  <thead>\n",
       "    <tr style=\"text-align: right;\">\n",
       "      <th></th>\n",
       "      <th>career</th>\n",
       "      <th>year</th>\n",
       "      <th>month</th>\n",
       "      <th>len</th>\n",
       "    </tr>\n",
       "  </thead>\n",
       "  <tbody>\n",
       "    <tr>\n",
       "      <td>0</td>\n",
       "      <td>Sportsperson (Golf)</td>\n",
       "      <td>2002</td>\n",
       "      <td>3</td>\n",
       "      <td>3</td>\n",
       "    </tr>\n",
       "    <tr>\n",
       "      <td>1</td>\n",
       "      <td>Sportsperson (Golf)</td>\n",
       "      <td>2002</td>\n",
       "      <td>6</td>\n",
       "      <td>2</td>\n",
       "    </tr>\n",
       "    <tr>\n",
       "      <td>2</td>\n",
       "      <td>Sportsperson (Golf)</td>\n",
       "      <td>2002</td>\n",
       "      <td>8</td>\n",
       "      <td>2</td>\n",
       "    </tr>\n",
       "    <tr>\n",
       "      <td>3</td>\n",
       "      <td>Sportsperson (Golf)</td>\n",
       "      <td>2002</td>\n",
       "      <td>12</td>\n",
       "      <td>1</td>\n",
       "    </tr>\n",
       "    <tr>\n",
       "      <td>4</td>\n",
       "      <td>Sportsperson (Golf)</td>\n",
       "      <td>2003</td>\n",
       "      <td>1</td>\n",
       "      <td>1</td>\n",
       "    </tr>\n",
       "    <tr>\n",
       "      <td>...</td>\n",
       "      <td>...</td>\n",
       "      <td>...</td>\n",
       "      <td>...</td>\n",
       "      <td>...</td>\n",
       "    </tr>\n",
       "    <tr>\n",
       "      <td>182</td>\n",
       "      <td>Sportsperson (Golf)</td>\n",
       "      <td>2018</td>\n",
       "      <td>5</td>\n",
       "      <td>3</td>\n",
       "    </tr>\n",
       "    <tr>\n",
       "      <td>183</td>\n",
       "      <td>Sportsperson (Golf)</td>\n",
       "      <td>2018</td>\n",
       "      <td>6</td>\n",
       "      <td>7</td>\n",
       "    </tr>\n",
       "    <tr>\n",
       "      <td>184</td>\n",
       "      <td>Sportsperson (Golf)</td>\n",
       "      <td>2018</td>\n",
       "      <td>7</td>\n",
       "      <td>24</td>\n",
       "    </tr>\n",
       "    <tr>\n",
       "      <td>185</td>\n",
       "      <td>Sportsperson (Golf)</td>\n",
       "      <td>2018</td>\n",
       "      <td>8</td>\n",
       "      <td>35</td>\n",
       "    </tr>\n",
       "    <tr>\n",
       "      <td>186</td>\n",
       "      <td>Sportsperson (Golf)</td>\n",
       "      <td>2018</td>\n",
       "      <td>9</td>\n",
       "      <td>3</td>\n",
       "    </tr>\n",
       "  </tbody>\n",
       "</table>\n",
       "<p>187 rows × 4 columns</p>\n",
       "</div>"
      ],
      "text/plain": [
       "                  career  year  month  len\n",
       "0    Sportsperson (Golf)  2002      3    3\n",
       "1    Sportsperson (Golf)  2002      6    2\n",
       "2    Sportsperson (Golf)  2002      8    2\n",
       "3    Sportsperson (Golf)  2002     12    1\n",
       "4    Sportsperson (Golf)  2003      1    1\n",
       "..                   ...   ...    ...  ...\n",
       "182  Sportsperson (Golf)  2018      5    3\n",
       "183  Sportsperson (Golf)  2018      6    7\n",
       "184  Sportsperson (Golf)  2018      7   24\n",
       "185  Sportsperson (Golf)  2018      8   35\n",
       "186  Sportsperson (Golf)  2018      9    3\n",
       "\n",
       "[187 rows x 4 columns]"
      ]
     },
     "execution_count": 52,
     "metadata": {},
     "output_type": "execute_result"
    }
   ],
   "source": [
    "c_golf"
   ]
  },
  {
   "cell_type": "code",
   "execution_count": 58,
   "metadata": {},
   "outputs": [
    {
     "data": {
      "text/plain": [
       "0       3\n",
       "1       6\n",
       "2       8\n",
       "3      12\n",
       "4       1\n",
       "       ..\n",
       "182     5\n",
       "183     6\n",
       "184     7\n",
       "185     8\n",
       "186     9\n",
       "Name: month, Length: 187, dtype: int64"
      ]
     },
     "execution_count": 58,
     "metadata": {},
     "output_type": "execute_result"
    }
   ],
   "source": [
    "c_golf['month']"
   ]
  },
  {
   "cell_type": "code",
   "execution_count": 108,
   "metadata": {},
   "outputs": [],
   "source": [
    "c_golf['yearmo'] = c_golf['year'].astype(str).str.cat(c_golf['month'].astype(str)) # df.Year.str.cat(df.quarter)"
   ]
  },
  {
   "cell_type": "code",
   "execution_count": 110,
   "metadata": {},
   "outputs": [
    {
     "data": {
      "text/plain": [
       "<matplotlib.axes._subplots.AxesSubplot at 0x11ee75bd0>"
      ]
     },
     "execution_count": 110,
     "metadata": {},
     "output_type": "execute_result"
    },
    {
     "data": {
      "image/png": "[encoded data removed]",
      "text/plain": [
       "<Figure size 432x288 with 1 Axes>"
      ]
     },
     "metadata": {
      "needs_background": "light"
     },
     "output_type": "display_data"
    }
   ],
   "source": [
    "c_golf[['yearmo', 'len']].plot(kind=\"line\", x=\"yearmo\", y=\"len\")"
   ]
  },
  {
   "cell_type": "code",
   "execution_count": 72,
   "metadata": {},
   "outputs": [],
   "source": [
    "df_bball = df_edits[(df_edits['career'] == 'Sportsperson (Basketball)')]"
   ]
  },
  {
   "cell_type": "code",
   "execution_count": 79,
   "metadata": {},
   "outputs": [
    {
     "name": "stderr",
     "output_type": "stream",
     "text": [
      "/Applications/Anaconda/anaconda3/lib/python3.7/site-packages/ipykernel_launcher.py:1: SettingWithCopyWarning: \n",
      "A value is trying to be set on a copy of a slice from a DataFrame.\n",
      "Try using .loc[row_indexer,col_indexer] = value instead\n",
      "\n",
      "See the caveats in the documentation: http://pandas.pydata.org/pandas-docs/stable/user_guide/indexing.html#returning-a-view-versus-a-copy\n",
      "  \"\"\"Entry point for launching an IPython kernel.\n",
      "/Applications/Anaconda/anaconda3/lib/python3.7/site-packages/ipykernel_launcher.py:2: SettingWithCopyWarning: \n",
      "A value is trying to be set on a copy of a slice from a DataFrame.\n",
      "Try using .loc[row_indexer,col_indexer] = value instead\n",
      "\n",
      "See the caveats in the documentation: http://pandas.pydata.org/pandas-docs/stable/user_guide/indexing.html#returning-a-view-versus-a-copy\n",
      "  \n",
      "/Applications/Anaconda/anaconda3/lib/python3.7/site-packages/ipykernel_launcher.py:3: SettingWithCopyWarning: \n",
      "A value is trying to be set on a copy of a slice from a DataFrame.\n",
      "Try using .loc[row_indexer,col_indexer] = value instead\n",
      "\n",
      "See the caveats in the documentation: http://pandas.pydata.org/pandas-docs/stable/user_guide/indexing.html#returning-a-view-versus-a-copy\n",
      "  This is separate from the ipykernel package so we can avoid doing imports until\n"
     ]
    },
    {
     "data": {
      "text/html": [
       "<div>\n",
       "<style scoped>\n",
       "    .dataframe tbody tr th:only-of-type {\n",
       "        vertical-align: middle;\n",
       "    }\n",
       "\n",
       "    .dataframe tbody tr th {\n",
       "        vertical-align: top;\n",
       "    }\n",
       "\n",
       "    .dataframe thead th {\n",
       "        text-align: right;\n",
       "    }\n",
       "</style>\n",
       "<table border=\"1\" class=\"dataframe\">\n",
       "  <thead>\n",
       "    <tr style=\"text-align: right;\">\n",
       "      <th></th>\n",
       "      <th></th>\n",
       "      <th></th>\n",
       "      <th>len</th>\n",
       "    </tr>\n",
       "    <tr>\n",
       "      <th>career</th>\n",
       "      <th>year</th>\n",
       "      <th>month</th>\n",
       "      <th></th>\n",
       "    </tr>\n",
       "  </thead>\n",
       "  <tbody>\n",
       "    <tr>\n",
       "      <td rowspan=\"11\" valign=\"top\">Sportsperson (Basketball)</td>\n",
       "      <td>2001</td>\n",
       "      <td>11</td>\n",
       "      <td>1</td>\n",
       "    </tr>\n",
       "    <tr>\n",
       "      <td rowspan=\"3\" valign=\"top\">2002</td>\n",
       "      <td>2</td>\n",
       "      <td>1</td>\n",
       "    </tr>\n",
       "    <tr>\n",
       "      <td>9</td>\n",
       "      <td>3</td>\n",
       "    </tr>\n",
       "    <tr>\n",
       "      <td>11</td>\n",
       "      <td>2</td>\n",
       "    </tr>\n",
       "    <tr>\n",
       "      <td>2003</td>\n",
       "      <td>1</td>\n",
       "      <td>12</td>\n",
       "    </tr>\n",
       "    <tr>\n",
       "      <td>...</td>\n",
       "      <td>...</td>\n",
       "      <td>...</td>\n",
       "    </tr>\n",
       "    <tr>\n",
       "      <td rowspan=\"5\" valign=\"top\">2018</td>\n",
       "      <td>5</td>\n",
       "      <td>210</td>\n",
       "    </tr>\n",
       "    <tr>\n",
       "      <td>6</td>\n",
       "      <td>112</td>\n",
       "    </tr>\n",
       "    <tr>\n",
       "      <td>7</td>\n",
       "      <td>280</td>\n",
       "    </tr>\n",
       "    <tr>\n",
       "      <td>8</td>\n",
       "      <td>127</td>\n",
       "    </tr>\n",
       "    <tr>\n",
       "      <td>9</td>\n",
       "      <td>29</td>\n",
       "    </tr>\n",
       "  </tbody>\n",
       "</table>\n",
       "<p>192 rows × 1 columns</p>\n",
       "</div>"
      ],
      "text/plain": [
       "                                      len\n",
       "career                    year month     \n",
       "Sportsperson (Basketball) 2001 11       1\n",
       "                          2002 2        1\n",
       "                               9        3\n",
       "                               11       2\n",
       "                          2003 1       12\n",
       "...                                   ...\n",
       "                          2018 5      210\n",
       "                               6      112\n",
       "                               7      280\n",
       "                               8      127\n",
       "                               9       29\n",
       "\n",
       "[192 rows x 1 columns]"
      ]
     },
     "execution_count": 79,
     "metadata": {},
     "output_type": "execute_result"
    }
   ],
   "source": [
    "df_bball['date'] = pd.to_datetime(df_bball['timestamp'])\n",
    "df_bball['year'] = df_bball['date'].dt.year\n",
    "df_bball['month'] = df_bball['date'].dt.month\n",
    "\n",
    "c_bball = df_bball.groupby(['career', 'year', 'month'])['revid'].agg([len])\n",
    "c_bball"
   ]
  },
  {
   "cell_type": "code",
   "execution_count": 101,
   "metadata": {},
   "outputs": [],
   "source": [
    "c_bball.reset_index(inplace=True)"
   ]
  },
  {
   "cell_type": "code",
   "execution_count": 102,
   "metadata": {},
   "outputs": [],
   "source": [
    "c_bball['yearmo'] = c_bball['year'].astype(str).str.cat(c_bball['month'].astype(str)) # df.Year.str.cat(df.quarter)"
   ]
  },
  {
   "cell_type": "code",
   "execution_count": 103,
   "metadata": {},
   "outputs": [
    {
     "data": {
      "text/plain": [
       "<matplotlib.axes._subplots.AxesSubplot at 0x11eb32510>"
      ]
     },
     "execution_count": 103,
     "metadata": {},
     "output_type": "execute_result"
    },
    {
     "data": {
      "image/png": "[encoded data removed]",
      "text/plain": [
       "<Figure size 432x288 with 1 Axes>"
      ]
     },
     "metadata": {
      "needs_background": "light"
     },
     "output_type": "display_data"
    }
   ],
   "source": [
    "c_bball['len2'] = c_bball['len'] / 4\n",
    "c_bball[['yearmo', 'len']].plot(kind=\"line\", x=\"yearmo\", y=\"len\")"
   ]
  },
  {
   "cell_type": "code",
   "execution_count": 93,
   "metadata": {},
   "outputs": [
    {
     "data": {
      "text/plain": [
       "Tiger_Woods    9026\n",
       "Name: title, dtype: int64"
      ]
     },
     "execution_count": 93,
     "metadata": {},
     "output_type": "execute_result"
    }
   ],
   "source": [
    "df_golf['title'].value_counts()"
   ]
  },
  {
   "cell_type": "code",
   "execution_count": 113,
   "metadata": {},
   "outputs": [
    {
     "data": {
      "text/plain": [
       "<matplotlib.axes._subplots.AxesSubplot at 0x1204d37d0>"
      ]
     },
     "execution_count": 113,
     "metadata": {},
     "output_type": "execute_result"
    },
    {
     "data": {
      "image/png": "[encoded data removed]",
      "text/plain": [
       "<Figure size 432x288 with 1 Axes>"
      ]
     },
     "metadata": {
      "needs_background": "light"
     },
     "output_type": "display_data"
    },
    {
     "data": {
      "image/png": "[encoded data removed]",
      "text/plain": [
       "<Figure size 432x288 with 1 Axes>"
      ]
     },
     "metadata": {
      "needs_background": "light"
     },
     "output_type": "display_data"
    }
   ],
   "source": [
    "c_golf['len2'] = c_golf['len'] / 1\n",
    "c_bball['len2'] = c_bball['len'] / 4\n",
    "\n",
    "c_golf[['yearmo', 'len2']].plot(kind=\"line\", x=\"yearmo\", y=\"len2\")\n",
    "c_bball[['yearmo', 'len2']].plot(kind=\"line\", x=\"yearmo\", y=\"len2\")"
   ]
  },
  {
   "cell_type": "code",
   "execution_count": 115,
   "metadata": {},
   "outputs": [
    {
     "data": {
      "text/plain": [
       "Musician                               213081\n",
       "Musicians                              181184\n",
       "Actor                                  146121\n",
       "Sportsperson (Basketball)               48464\n",
       "Television Personality                  36792\n",
       "Sportsperson (Association Football)     27622\n",
       "Sportsperson (Tennis)                   24641\n",
       "Filmmaker                               20085\n",
       "Athlete (Association football)          16272\n",
       "Author                                  13884\n",
       "Musician / Actor                        13146\n",
       "Sportsperson (Golf)                      9026\n",
       "Sportsperson (Boxing)                    8917\n",
       "Radio Personality                        8685\n",
       "Athlete (Boxing)                         7969\n",
       "Actors                                   7636\n",
       "Personality                              5818\n",
       "Name: career, dtype: int64"
      ]
     },
     "execution_count": 115,
     "metadata": {},
     "output_type": "execute_result"
    }
   ],
   "source": [
    "df_edits['career'].value_counts()"
   ]
  },
  {
   "cell_type": "code",
   "execution_count": 122,
   "metadata": {},
   "outputs": [],
   "source": [
    "df_edits['date'] = pd.to_datetime(df_edits['timestamp'])\n",
    "df_edits['month'] = df_edits['date'].dt.month\n",
    "df_edits['year'] = df_edits['date'].dt.year"
   ]
  },
  {
   "cell_type": "code",
   "execution_count": 142,
   "metadata": {},
   "outputs": [],
   "source": [
    "# cym = df_edits.groupby(['career', 'title', 'year', 'month'])['revid'].agg([len])\n",
    "cym = df_edits.groupby(['career', 'year', 'month'])['revid'].agg([len])"
   ]
  },
  {
   "cell_type": "code",
   "execution_count": 143,
   "metadata": {},
   "outputs": [
    {
     "data": {
      "text/html": [
       "<div>\n",
       "<style scoped>\n",
       "    .dataframe tbody tr th:only-of-type {\n",
       "        vertical-align: middle;\n",
       "    }\n",
       "\n",
       "    .dataframe tbody tr th {\n",
       "        vertical-align: top;\n",
       "    }\n",
       "\n",
       "    .dataframe thead th {\n",
       "        text-align: right;\n",
       "    }\n",
       "</style>\n",
       "<table border=\"1\" class=\"dataframe\">\n",
       "  <thead>\n",
       "    <tr style=\"text-align: right;\">\n",
       "      <th></th>\n",
       "      <th>career</th>\n",
       "      <th>year</th>\n",
       "      <th>month</th>\n",
       "      <th>len</th>\n",
       "      <th>yearmo</th>\n",
       "    </tr>\n",
       "  </thead>\n",
       "  <tbody>\n",
       "    <tr>\n",
       "      <td>0</td>\n",
       "      <td>Actor</td>\n",
       "      <td>2001</td>\n",
       "      <td>10</td>\n",
       "      <td>2</td>\n",
       "      <td>200110</td>\n",
       "    </tr>\n",
       "    <tr>\n",
       "      <td>1</td>\n",
       "      <td>Actor</td>\n",
       "      <td>2001</td>\n",
       "      <td>12</td>\n",
       "      <td>1</td>\n",
       "      <td>200112</td>\n",
       "    </tr>\n",
       "    <tr>\n",
       "      <td>2</td>\n",
       "      <td>Actor</td>\n",
       "      <td>2002</td>\n",
       "      <td>1</td>\n",
       "      <td>18</td>\n",
       "      <td>20021</td>\n",
       "    </tr>\n",
       "    <tr>\n",
       "      <td>3</td>\n",
       "      <td>Actor</td>\n",
       "      <td>2002</td>\n",
       "      <td>2</td>\n",
       "      <td>7</td>\n",
       "      <td>20022</td>\n",
       "    </tr>\n",
       "    <tr>\n",
       "      <td>4</td>\n",
       "      <td>Actor</td>\n",
       "      <td>2002</td>\n",
       "      <td>3</td>\n",
       "      <td>28</td>\n",
       "      <td>20023</td>\n",
       "    </tr>\n",
       "  </tbody>\n",
       "</table>\n",
       "</div>"
      ],
      "text/plain": [
       "  career  year  month  len  yearmo\n",
       "0  Actor  2001     10    2  200110\n",
       "1  Actor  2001     12    1  200112\n",
       "2  Actor  2002      1   18   20021\n",
       "3  Actor  2002      2    7   20022\n",
       "4  Actor  2002      3   28   20023"
      ]
     },
     "execution_count": 143,
     "metadata": {},
     "output_type": "execute_result"
    }
   ],
   "source": [
    "cym.reset_index(inplace=True)\n",
    "cym['yearmo'] = cym['year'].astype(str).str.cat(cym['month'].astype(str))\n",
    "cym.sort_values(by=['yearmo'], ascending=True)\n",
    "cym.head()"
   ]
  },
  {
   "cell_type": "code",
   "execution_count": 145,
   "metadata": {},
   "outputs": [
    {
     "data": {
      "text/plain": [
       "<matplotlib.axes._subplots.AxesSubplot at 0x11fb7a650>"
      ]
     },
     "execution_count": 145,
     "metadata": {},
     "output_type": "execute_result"
    },
    {
     "data": {
      "image/png": "[encoded data removed]",
      "text/plain": [
       "<Figure size 432x288 with 1 Axes>"
      ]
     },
     "metadata": {
      "needs_background": "light"
     },
     "output_type": "display_data"
    }
   ],
   "source": [
    "cym[cym['career'] == 'Radio Personality'].plot(x=\"yearmo\", y=\"len\")"
   ]
  },
  {
   "cell_type": "code",
   "execution_count": 146,
   "metadata": {},
   "outputs": [
    {
     "data": {
      "text/plain": [
       "<matplotlib.axes._subplots.AxesSubplot at 0x11fa7f550>"
      ]
     },
     "execution_count": 146,
     "metadata": {},
     "output_type": "execute_result"
    },
    {
     "data": {
      "image/png": "[encoded data removed]",
      "text/plain": [
       "<Figure size 432x288 with 1 Axes>"
      ]
     },
     "metadata": {
      "needs_background": "light"
     },
     "output_type": "display_data"
    }
   ],
   "source": [
    "cym[cym['career'] == 'Actor'].plot(x=\"yearmo\", y=\"len\")"
   ]
  }
 ],
 "metadata": {
  "kernelspec": {
   "display_name": "Python 3",
   "language": "python",
   "name": "python3"
  },
  "language_info": {
   "codemirror_mode": {
    "name": "ipython",
    "version": 3
   },
   "file_extension": ".py",
   "mimetype": "text/x-python",
   "name": "python",
   "nbconvert_exporter": "python",
   "pygments_lexer": "ipython3",
   "version": "3.7.4"
  }
 },
 "nbformat": 4,
 "nbformat_minor": 4
}
